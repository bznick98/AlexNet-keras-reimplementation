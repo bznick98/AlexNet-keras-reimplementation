{
  "nbformat": 4,
  "nbformat_minor": 0,
  "metadata": {
    "accelerator": "GPU",
    "colab": {
      "name": "AlexNet.ipynb",
      "provenance": [],
      "collapsed_sections": []
    },
    "kernelspec": {
      "display_name": "Python 3",
      "name": "python3"
    },
    "language_info": {
      "name": "python"
    }
  },
  "cells": [
    {
      "cell_type": "code",
      "metadata": {
        "id": "MH-dMi4934MQ"
      },
      "source": [
        "# AlexNet Implementation for https://www.notion.so/AlexNet-cff9b236e80d4196916a306d1ae86e17"
      ],
      "execution_count": null,
      "outputs": []
    },
    {
      "cell_type": "code",
      "metadata": {
        "id": "e8frjASu4SGP"
      },
      "source": [
        "import tensorflow as tf\n",
        "import numpy as np\n",
        "import cv2\n",
        "import matplotlib.pyplot as plt\n",
        "from tensorflow.keras.datasets import cifar10\n",
        "from tensorflow.keras.layers import Dense, Conv2D, MaxPooling2D, Flatten, BatchNormalization, Dropout\n",
        "from tensorflow.keras.optimizers import SGD\n",
        "from tensorflow.keras.preprocessing.image import ImageDataGenerator\n",
        "from tqdm import tqdm\n"
      ],
      "execution_count": null,
      "outputs": []
    },
    {
      "cell_type": "code",
      "metadata": {
        "id": "ArRFuZGc6DW_",
        "colab": {
          "base_uri": "https://localhost:8080/"
        },
        "outputId": "21fd6d70-3c4a-4d14-8040-60b6045fdd2a"
      },
      "source": [
        "# load dataset, used cifar-10 here since ILSVRC is not easily accessible right now\n",
        "(train_images, train_labels), (test_images, test_labels) = cifar10.load_data()\n",
        "# (train_images, train_labels), (test_images, test_labels) = (train_images.astype(np.float), train_labels.astype(np.float)), (test_images.astype(np.float), test_labels.astype(np.float))"
      ],
      "execution_count": null,
      "outputs": [
        {
          "output_type": "stream",
          "text": [
            "Downloading data from https://www.cs.toronto.edu/~kriz/cifar-10-python.tar.gz\n",
            "170500096/170498071 [==============================] - 4s 0us/step\n"
          ],
          "name": "stdout"
        }
      ]
    },
    {
      "cell_type": "code",
      "metadata": {
        "id": "xWIiy6JTA3aZ"
      },
      "source": [
        "# TRAINING CONFIG\n",
        "batch_size = 128"
      ],
      "execution_count": null,
      "outputs": []
    },
    {
      "cell_type": "code",
      "metadata": {
        "id": "V2LDrdsz9-X8"
      },
      "source": [
        "def augment_fn(image, label):\n",
        "  \"\"\"\n",
        "  augmentation function used in dataset pipeline\n",
        "  \"\"\"\n",
        "  image = image / 255\n",
        "  image = tf.image.resize(image, [256, 256])\n",
        "  image = tf.image.random_flip_left_right(image)\n",
        "  image = tf.image.random_crop(image, [224, 224, 3])\n",
        "\n",
        "  # label sparse to categorical\n",
        "  label = tf.one_hot(tf.squeeze(label), depth=10)\n",
        "\n",
        "  return (image, label)\n",
        "\n",
        "def preprocess_no_aug(image, label):\n",
        "  \"\"\"\n",
        "  preprocessing function used in test dataset pipeline, no augmentation\n",
        "  \"\"\"\n",
        "  image = image / 255\n",
        "  image = tf.image.resize(image, [224, 224])\n",
        "\n",
        "  # label sparse to categorical\n",
        "  label = tf.one_hot(tf.squeeze(label), depth=10)\n",
        "\n",
        "  return (image, label)"
      ],
      "execution_count": null,
      "outputs": []
    },
    {
      "cell_type": "code",
      "metadata": {
        "id": "cQnv4I3_5v-l"
      },
      "source": [
        "# Use tf.data pipeline\n",
        "\n",
        "# split 10% to validation\n",
        "split = int(0.1 * len(train_images))\n",
        "valid_images = train_images[:split]\n",
        "train_images = train_images[split:]\n",
        "\n",
        "valid_labels = train_labels[:split]\n",
        "train_labels = train_labels[split:]\n",
        "\n",
        "\n",
        "# Train set\n",
        "train_ds = tf.data.Dataset.from_tensor_slices((train_images, train_labels))\n",
        "train_ds = (\n",
        "    train_ds\n",
        "    .map(augment_fn, num_parallel_calls=tf.data.AUTOTUNE)\n",
        "    # .cache()\n",
        "    .batch(batch_size)\n",
        "    .prefetch(tf.data.AUTOTUNE)\n",
        ")\n",
        "\n",
        "# Validation set\n",
        "valid_ds = tf.data.Dataset.from_tensor_slices((valid_images, valid_labels))\n",
        "valid_ds = (\n",
        "    valid_ds\n",
        "    .map(preprocess_no_aug, num_parallel_calls=tf.data.AUTOTUNE)\n",
        "    # .cache()\n",
        "    .batch(batch_size)\n",
        "    .prefetch(tf.data.AUTOTUNE)\n",
        ")\n",
        "\n",
        "# Test set\n",
        "test_ds = tf.data.Dataset.from_tensor_slices((test_images, test_labels))\n",
        "test_ds = (\n",
        "    test_ds\n",
        "    .map(preprocess_no_aug, num_parallel_calls=tf.data.AUTOTUNE)\n",
        "    # .cache()\n",
        "    .batch(batch_size)\n",
        "    .prefetch(tf.data.AUTOTUNE)\n",
        ")\n",
        "\n",
        "# test_x = test_ds.as_numpy_iterator()\n",
        "# print(list(test_x))"
      ],
      "execution_count": null,
      "outputs": []
    },
    {
      "cell_type": "code",
      "metadata": {
        "id": "oYXYHoquaUZe"
      },
      "source": [
        "# def resize_images(images, target):\n",
        "#   \"\"\"\n",
        "#   resize N images\n",
        "#   input:\n",
        "#     - images: an array of images, must in 4D (N, H, W, C)\n",
        "#     - target: a 2d tuple specifying target size\n",
        "#   output:\n",
        "#     - inplace resize a 4D numpy array of images\n",
        "#   \"\"\"\n",
        "#   for i, img in enumerate(tqdm(images)):\n",
        "#     images[i] = cv2.resize(img, dsize=target)\n"
      ],
      "execution_count": null,
      "outputs": []
    },
    {
      "cell_type": "code",
      "metadata": {
        "colab": {
          "base_uri": "https://localhost:8080/",
          "height": 268
        },
        "id": "a0TiS4R2gUAn",
        "outputId": "d01c68aa-30c2-4f1f-dc8c-532f1ad52ace"
      },
      "source": [
        "%matplotlib inline\n",
        "sample_ds = train_ds.shuffle(10).take(1).as_numpy_iterator()\n",
        "it = iter(sample_ds)\n",
        "fig, axes = plt.subplots()\n",
        "axes = plt.imshow(it.next()[0][0])\n",
        "plt.show()"
      ],
      "execution_count": null,
      "outputs": [
        {
          "output_type": "display_data",
          "data": {
            "image/png": "[encoded data removed]",
            "text/plain": [
              "<Figure size 432x288 with 1 Axes>"
            ]
          },
          "metadata": {
            "tags": [],
            "needs_background": "light"
          }
        }
      ]
    },
    {
      "cell_type": "code",
      "metadata": {
        "colab": {
          "base_uri": "https://localhost:8080/"
        },
        "id": "g1GTn3maVOAO",
        "outputId": "e5615c60-a834-4633-fd5c-7a210a2e01e6"
      },
      "source": [
        "# data info\n",
        "print(\"RAW IMAGES:\")\n",
        "print(\"Shape of train images: {}\".format(train_images.shape))\n",
        "print(\"Shape of train labels: {}\".format(train_labels.shape))\n",
        "print(\"Shape of test images: {}\".format(test_images.shape))\n",
        "print(\"Shape of test labels: {}\".format(test_labels.shape))\n",
        "print(\"Data type: \", train_images.dtype)\n",
        "\n",
        "print(\"TF DATASET: \")\n",
        "for image, label in train_ds:\n",
        "  print(image.shape)\n",
        "  print(label.shape)\n",
        "  break\n",
        "# print(\"Shape of 1 batch train dataset: {}\".format())\n"
      ],
      "execution_count": null,
      "outputs": [
        {
          "output_type": "stream",
          "text": [
            "RAW IMAGES:\n",
            "Shape of train images: (45000, 32, 32, 3)\n",
            "Shape of train labels: (45000, 1)\n",
            "Shape of test images: (10000, 32, 32, 3)\n",
            "Shape of test labels: (10000, 1)\n",
            "Data type:  uint8\n",
            "TF DATASET: \n",
            "(128, 224, 224, 3)\n",
            "(128, 10)\n"
          ],
          "name": "stdout"
        }
      ]
    },
    {
      "cell_type": "code",
      "metadata": {
        "id": "BdJwkQ_9XZQC"
      },
      "source": [
        "# # USE Keras' ImageDataGenerator for loading data and training\n",
        "# def center_crop(image, ) -> np.ndarray:\n",
        "#   \"\"\"\n",
        "#   custom center crop function, used in tf.keras.preprocessing.image.ImageDataGenerator(preprocessing_function=)\n",
        "#   input: \n",
        "#     - image: a single image (numpy tensor with rank 3)\n",
        "#     - crop_size: a tuple of height and width, specifying the height and width randomly cropped\n",
        "#   output - a new numpy tensor with same shape\n",
        "#   \"\"\"\n",
        "#   pass\n",
        "\n",
        "\n",
        "# # ImageDataGenerator\n",
        "# train_dataGen = ImageDataGenerator(\n",
        "#     # rescale=1/255, # In alexnet paper, there is no rescale\n",
        "#     # Data Augmentation\n",
        "#     horizontal_flip=True\n",
        "# )\n",
        "\n",
        "# train_set = train_dataGen.flow(train_images, train_labels, batch_size=128)"
      ],
      "execution_count": null,
      "outputs": []
    },
    {
      "cell_type": "code",
      "metadata": {
        "id": "t338maqoAZD0"
      },
      "source": [
        "# network architecture\n",
        "class AlexNet(tf.keras.Model):\n",
        "  def __init__(self, num_classes=1000, input_shape=(224, 224, 3)):\n",
        "    super(AlexNet, self).__init__()\n",
        "    # 1st conv layer\n",
        "    self.conv_1 = Conv2D(96, (11,11), strides=(4,4), activation='relu', input_shape=input_shape)\n",
        "    self.bn_1 = BatchNormalization()\n",
        "    self.max_1 = MaxPooling2D((3,3), strides=(2,2)) # overlapping pooling described in the paper\n",
        "\n",
        "    # 2nd conv layer\n",
        "    self.conv_2 = Conv2D(256, (5,5), activation='relu')\n",
        "    self.bn_2 = BatchNormalization()\n",
        "    self.max_2 = MaxPooling2D((3,3), strides=(2,2))\n",
        "\n",
        "    # 3rd conv layer\n",
        "    self.conv_3 = Conv2D(384, (3,3), activation='relu')\n",
        "\n",
        "    # 4th conv layer\n",
        "    self.conv_4 = Conv2D(384, (3,3), activation='relu')\n",
        "\n",
        "    # 5th conv layer\n",
        "    self.conv_5 = Conv2D(256, (3,3), activation='relu')\n",
        "    self.max_5 = MaxPooling2D((3,3), strides=(2,2))\n",
        "\n",
        "    # Flatten\n",
        "    self.flatten = Flatten()\n",
        "\n",
        "    # 1st fc layer\n",
        "    self.fc_1 = Dense(4096, activation='relu')\n",
        "    self.drop_1 = Dropout(0.5)\n",
        "\n",
        "    # 2nd fc_layer\n",
        "    self.fc_2 = Dense(4096, activation='relu')\n",
        "    self.drop_2 = Dropout(0.5)\n",
        "\n",
        "    # 3rd fc_layer (output layer)\n",
        "    self.fc_3 = Dense(num_classes, activation='softmax')\n",
        "\n",
        "  def call(self, inputs):\n",
        "    \"\"\"\n",
        "    model's forward pass\n",
        "    \"\"\"\n",
        "    # 1st conv\n",
        "    x = self.conv_1(inputs)\n",
        "    x = self.bn_1(x)\n",
        "    x = self.max_1(x)\n",
        "    \n",
        "    # 2nd conv\n",
        "    x = self.conv_2(x)\n",
        "    x = self.bn_2(x)\n",
        "    x = self.max_2(x)\n",
        "\n",
        "    # 3rd conv\n",
        "    x = self.conv_3(x)\n",
        "\n",
        "    # 4th conv\n",
        "    x = self.conv_4(x)\n",
        "\n",
        "    # 5th conv\n",
        "    x = self.conv_5(x)\n",
        "    x = self.max_5(x)\n",
        "\n",
        "    x = self.flatten(x)\n",
        "\n",
        "    # 1st fc\n",
        "    x = self.fc_1(x)\n",
        "    x = self.drop_1(x)\n",
        "\n",
        "    # 2nd fc\n",
        "    x = self.fc_2(x)\n",
        "    x = self.drop_2(x)\n",
        "\n",
        "    # 3rd fc: output layer\n",
        "    x = self.fc_3(x)\n",
        "    return x\n"
      ],
      "execution_count": null,
      "outputs": []
    },
    {
      "cell_type": "code",
      "metadata": {
        "id": "MN1mpIn8X-sH"
      },
      "source": [
        "def train(epochs=90):\n",
        "  \"\"\"\n",
        "  train AlexNet\n",
        "  \"\"\"\n",
        "  model = AlexNet(num_classes=10)\n",
        "  # display model info\n",
        "  model.build((None, 224, 224, 3))\n",
        "  model.summary()\n",
        "\n",
        "  init_lr = 0.01\n",
        "  decay_steps = 10000\n",
        "  decay_rate = 0.96\n",
        "  lr_schedule = tf.keras.optimizers.schedules.ExponentialDecay(initial_learning_rate=init_lr, decay_steps=decay_steps, decay_rate=decay_rate)\n",
        "\n",
        "  optimizer = SGD(learning_rate=lr_schedule, momentum=0.9)\n",
        "  model.compile(optimizer=optimizer, loss='categorical_crossentropy', metrics=['accuracy'])\n",
        "  history = model.fit(\n",
        "      x=train_ds,\n",
        "      validation_data=valid_ds,\n",
        "      epochs=epochs,\n",
        "  )\n",
        "  return history, model\n"
      ],
      "execution_count": null,
      "outputs": []
    },
    {
      "cell_type": "code",
      "metadata": {
        "colab": {
          "base_uri": "https://localhost:8080/",
          "height": 1000
        },
        "id": "yMOi1NT0VGZ4",
        "outputId": "de4ede92-5b70-43d2-8bd5-975a371e50cb"
      },
      "source": [
        "# Train networks\n",
        "history, model = train(epochs=90)"
      ],
      "execution_count": null,
      "outputs": [
        {
          "output_type": "stream",
          "text": [
            "Model: \"alex_net_1\"\n",
            "_________________________________________________________________\n",
            "Layer (type)                 Output Shape              Param #   \n",
            "=================================================================\n",
            "conv2d_5 (Conv2D)            multiple                  34944     \n",
            "_________________________________________________________________\n",
            "batch_normalization_2 (Batch multiple                  384       \n",
            "_________________________________________________________________\n",
            "max_pooling2d_3 (MaxPooling2 multiple                  0         \n",
            "_________________________________________________________________\n",
            "conv2d_6 (Conv2D)            multiple                  614656    \n",
            "_________________________________________________________________\n",
            "batch_normalization_3 (Batch multiple                  1024      \n",
            "_________________________________________________________________\n",
            "max_pooling2d_4 (MaxPooling2 multiple                  0         \n",
            "_________________________________________________________________\n",
            "conv2d_7 (Conv2D)            multiple                  885120    \n",
            "_________________________________________________________________\n",
            "conv2d_8 (Conv2D)            multiple                  1327488   \n",
            "_________________________________________________________________\n",
            "conv2d_9 (Conv2D)            multiple                  884992    \n",
            "_________________________________________________________________\n",
            "max_pooling2d_5 (MaxPooling2 multiple                  0         \n",
            "_________________________________________________________________\n",
            "flatten_1 (Flatten)          multiple                  0         \n",
            "_________________________________________________________________\n",
            "dense_3 (Dense)              multiple                  1052672   \n",
            "_________________________________________________________________\n",
            "dropout_2 (Dropout)          multiple                  0         \n",
            "_________________________________________________________________\n",
            "dense_4 (Dense)              multiple                  16781312  \n",
            "_________________________________________________________________\n",
            "dropout_3 (Dropout)          multiple                  0         \n",
            "_________________________________________________________________\n",
            "dense_5 (Dense)              multiple                  40970     \n",
            "=================================================================\n",
            "Total params: 21,623,562\n",
            "Trainable params: 21,622,858\n",
            "Non-trainable params: 704\n",
            "_________________________________________________________________\n",
            "Epoch 1/90\n",
            "352/352 [==============================] - 70s 104ms/step - loss: 1.7671 - accuracy: 0.3406 - val_loss: 1.9243 - val_accuracy: 0.2940\n",
            "Epoch 2/90\n",
            "352/352 [==============================] - 50s 142ms/step - loss: 1.4378 - accuracy: 0.4806 - val_loss: 1.4087 - val_accuracy: 0.5058\n",
            "Epoch 3/90\n",
            "352/352 [==============================] - 51s 145ms/step - loss: 1.2732 - accuracy: 0.5480 - val_loss: 1.3876 - val_accuracy: 0.5288\n",
            "Epoch 4/90\n",
            "352/352 [==============================] - 51s 144ms/step - loss: 1.1506 - accuracy: 0.5962 - val_loss: 1.3753 - val_accuracy: 0.5302\n",
            "Epoch 5/90\n",
            "191/352 [===============>..............] - ETA: 22s - loss: 1.0713 - accuracy: 0.6230"
          ],
          "name": "stdout"
        },
        {
          "output_type": "error",
          "ename": "KeyboardInterrupt",
          "evalue": "ignored",
          "traceback": [
            "\u001b[0;31m---------------------------------------------------------------------------\u001b[0m",
            "\u001b[0;31mKeyboardInterrupt\u001b[0m                         Traceback (most recent call last)",
            "\u001b[0;32m<ipython-input-17-586aed7d19cd>\u001b[0m in \u001b[0;36m<module>\u001b[0;34m()\u001b[0m\n\u001b[1;32m      1\u001b[0m \u001b[0;31m# Train networks\u001b[0m\u001b[0;34m\u001b[0m\u001b[0;34m\u001b[0m\u001b[0;34m\u001b[0m\u001b[0m\n\u001b[0;32m----> 2\u001b[0;31m \u001b[0mhistory\u001b[0m\u001b[0;34m,\u001b[0m \u001b[0mmodel\u001b[0m \u001b[0;34m=\u001b[0m \u001b[0mtrain\u001b[0m\u001b[0;34m(\u001b[0m\u001b[0mepochs\u001b[0m\u001b[0;34m=\u001b[0m\u001b[0;36m90\u001b[0m\u001b[0;34m)\u001b[0m\u001b[0;34m\u001b[0m\u001b[0;34m\u001b[0m\u001b[0m\n\u001b[0m",
            "\u001b[0;32m<ipython-input-16-73af4df666ca>\u001b[0m in \u001b[0;36mtrain\u001b[0;34m(epochs)\u001b[0m\n\u001b[1;32m     18\u001b[0m       \u001b[0mx\u001b[0m\u001b[0;34m=\u001b[0m\u001b[0mtrain_ds\u001b[0m\u001b[0;34m,\u001b[0m\u001b[0;34m\u001b[0m\u001b[0;34m\u001b[0m\u001b[0m\n\u001b[1;32m     19\u001b[0m       \u001b[0mvalidation_data\u001b[0m\u001b[0;34m=\u001b[0m\u001b[0mvalid_ds\u001b[0m\u001b[0;34m,\u001b[0m\u001b[0;34m\u001b[0m\u001b[0;34m\u001b[0m\u001b[0m\n\u001b[0;32m---> 20\u001b[0;31m       \u001b[0mepochs\u001b[0m\u001b[0;34m=\u001b[0m\u001b[0mepochs\u001b[0m\u001b[0;34m,\u001b[0m\u001b[0;34m\u001b[0m\u001b[0;34m\u001b[0m\u001b[0m\n\u001b[0m\u001b[1;32m     21\u001b[0m   )\n\u001b[1;32m     22\u001b[0m   \u001b[0;32mreturn\u001b[0m \u001b[0mhistory\u001b[0m\u001b[0;34m,\u001b[0m \u001b[0mmodel\u001b[0m\u001b[0;34m\u001b[0m\u001b[0;34m\u001b[0m\u001b[0m\n",
            "\u001b[0;32m/usr/local/lib/python3.7/dist-packages/tensorflow/python/keras/engine/training.py\u001b[0m in \u001b[0;36mfit\u001b[0;34m(self, x, y, batch_size, epochs, verbose, callbacks, validation_split, validation_data, shuffle, class_weight, sample_weight, initial_epoch, steps_per_epoch, validation_steps, validation_batch_size, validation_freq, max_queue_size, workers, use_multiprocessing)\u001b[0m\n\u001b[1;32m   1181\u001b[0m                 _r=1):\n\u001b[1;32m   1182\u001b[0m               \u001b[0mcallbacks\u001b[0m\u001b[0;34m.\u001b[0m\u001b[0mon_train_batch_begin\u001b[0m\u001b[0;34m(\u001b[0m\u001b[0mstep\u001b[0m\u001b[0;34m)\u001b[0m\u001b[0;34m\u001b[0m\u001b[0;34m\u001b[0m\u001b[0m\n\u001b[0;32m-> 1183\u001b[0;31m               \u001b[0mtmp_logs\u001b[0m \u001b[0;34m=\u001b[0m \u001b[0mself\u001b[0m\u001b[0;34m.\u001b[0m\u001b[0mtrain_function\u001b[0m\u001b[0;34m(\u001b[0m\u001b[0miterator\u001b[0m\u001b[0;34m)\u001b[0m\u001b[0;34m\u001b[0m\u001b[0;34m\u001b[0m\u001b[0m\n\u001b[0m\u001b[1;32m   1184\u001b[0m               \u001b[0;32mif\u001b[0m \u001b[0mdata_handler\u001b[0m\u001b[0;34m.\u001b[0m\u001b[0mshould_sync\u001b[0m\u001b[0;34m:\u001b[0m\u001b[0;34m\u001b[0m\u001b[0;34m\u001b[0m\u001b[0m\n\u001b[1;32m   1185\u001b[0m                 \u001b[0mcontext\u001b[0m\u001b[0;34m.\u001b[0m\u001b[0masync_wait\u001b[0m\u001b[0;34m(\u001b[0m\u001b[0;34m)\u001b[0m\u001b[0;34m\u001b[0m\u001b[0;34m\u001b[0m\u001b[0m\n",
            "\u001b[0;32m/usr/local/lib/python3.7/dist-packages/tensorflow/python/eager/def_function.py\u001b[0m in \u001b[0;36m__call__\u001b[0;34m(self, *args, **kwds)\u001b[0m\n\u001b[1;32m    887\u001b[0m \u001b[0;34m\u001b[0m\u001b[0m\n\u001b[1;32m    888\u001b[0m       \u001b[0;32mwith\u001b[0m \u001b[0mOptionalXlaContext\u001b[0m\u001b[0;34m(\u001b[0m\u001b[0mself\u001b[0m\u001b[0;34m.\u001b[0m\u001b[0m_jit_compile\u001b[0m\u001b[0;34m)\u001b[0m\u001b[0;34m:\u001b[0m\u001b[0;34m\u001b[0m\u001b[0;34m\u001b[0m\u001b[0m\n\u001b[0;32m--> 889\u001b[0;31m         \u001b[0mresult\u001b[0m \u001b[0;34m=\u001b[0m \u001b[0mself\u001b[0m\u001b[0;34m.\u001b[0m\u001b[0m_call\u001b[0m\u001b[0;34m(\u001b[0m\u001b[0;34m*\u001b[0m\u001b[0margs\u001b[0m\u001b[0;34m,\u001b[0m \u001b[0;34m**\u001b[0m\u001b[0mkwds\u001b[0m\u001b[0;34m)\u001b[0m\u001b[0;34m\u001b[0m\u001b[0;34m\u001b[0m\u001b[0m\n\u001b[0m\u001b[1;32m    890\u001b[0m \u001b[0;34m\u001b[0m\u001b[0m\n\u001b[1;32m    891\u001b[0m       \u001b[0mnew_tracing_count\u001b[0m \u001b[0;34m=\u001b[0m \u001b[0mself\u001b[0m\u001b[0;34m.\u001b[0m\u001b[0mexperimental_get_tracing_count\u001b[0m\u001b[0;34m(\u001b[0m\u001b[0;34m)\u001b[0m\u001b[0;34m\u001b[0m\u001b[0;34m\u001b[0m\u001b[0m\n",
            "\u001b[0;32m/usr/local/lib/python3.7/dist-packages/tensorflow/python/eager/def_function.py\u001b[0m in \u001b[0;36m_call\u001b[0;34m(self, *args, **kwds)\u001b[0m\n\u001b[1;32m    915\u001b[0m       \u001b[0;31m# In this case we have created variables on the first call, so we run the\u001b[0m\u001b[0;34m\u001b[0m\u001b[0;34m\u001b[0m\u001b[0;34m\u001b[0m\u001b[0m\n\u001b[1;32m    916\u001b[0m       \u001b[0;31m# defunned version which is guaranteed to never create variables.\u001b[0m\u001b[0;34m\u001b[0m\u001b[0;34m\u001b[0m\u001b[0;34m\u001b[0m\u001b[0m\n\u001b[0;32m--> 917\u001b[0;31m       \u001b[0;32mreturn\u001b[0m \u001b[0mself\u001b[0m\u001b[0;34m.\u001b[0m\u001b[0m_stateless_fn\u001b[0m\u001b[0;34m(\u001b[0m\u001b[0;34m*\u001b[0m\u001b[0margs\u001b[0m\u001b[0;34m,\u001b[0m \u001b[0;34m**\u001b[0m\u001b[0mkwds\u001b[0m\u001b[0;34m)\u001b[0m  \u001b[0;31m# pylint: disable=not-callable\u001b[0m\u001b[0;34m\u001b[0m\u001b[0;34m\u001b[0m\u001b[0m\n\u001b[0m\u001b[1;32m    918\u001b[0m     \u001b[0;32melif\u001b[0m \u001b[0mself\u001b[0m\u001b[0;34m.\u001b[0m\u001b[0m_stateful_fn\u001b[0m \u001b[0;32mis\u001b[0m \u001b[0;32mnot\u001b[0m \u001b[0;32mNone\u001b[0m\u001b[0;34m:\u001b[0m\u001b[0;34m\u001b[0m\u001b[0;34m\u001b[0m\u001b[0m\n\u001b[1;32m    919\u001b[0m       \u001b[0;31m# Release the lock early so that multiple threads can perform the call\u001b[0m\u001b[0;34m\u001b[0m\u001b[0;34m\u001b[0m\u001b[0;34m\u001b[0m\u001b[0m\n",
            "\u001b[0;32m/usr/local/lib/python3.7/dist-packages/tensorflow/python/eager/function.py\u001b[0m in \u001b[0;36m__call__\u001b[0;34m(self, *args, **kwargs)\u001b[0m\n\u001b[1;32m   3022\u001b[0m        filtered_flat_args) = self._maybe_define_function(args, kwargs)\n\u001b[1;32m   3023\u001b[0m     return graph_function._call_flat(\n\u001b[0;32m-> 3024\u001b[0;31m         filtered_flat_args, captured_inputs=graph_function.captured_inputs)  # pylint: disable=protected-access\n\u001b[0m\u001b[1;32m   3025\u001b[0m \u001b[0;34m\u001b[0m\u001b[0m\n\u001b[1;32m   3026\u001b[0m   \u001b[0;34m@\u001b[0m\u001b[0mproperty\u001b[0m\u001b[0;34m\u001b[0m\u001b[0;34m\u001b[0m\u001b[0m\n",
            "\u001b[0;32m/usr/local/lib/python3.7/dist-packages/tensorflow/python/eager/function.py\u001b[0m in \u001b[0;36m_call_flat\u001b[0;34m(self, args, captured_inputs, cancellation_manager)\u001b[0m\n\u001b[1;32m   1959\u001b[0m       \u001b[0;31m# No tape is watching; skip to running the function.\u001b[0m\u001b[0;34m\u001b[0m\u001b[0;34m\u001b[0m\u001b[0;34m\u001b[0m\u001b[0m\n\u001b[1;32m   1960\u001b[0m       return self._build_call_outputs(self._inference_function.call(\n\u001b[0;32m-> 1961\u001b[0;31m           ctx, args, cancellation_manager=cancellation_manager))\n\u001b[0m\u001b[1;32m   1962\u001b[0m     forward_backward = self._select_forward_and_backward_functions(\n\u001b[1;32m   1963\u001b[0m         \u001b[0margs\u001b[0m\u001b[0;34m,\u001b[0m\u001b[0;34m\u001b[0m\u001b[0;34m\u001b[0m\u001b[0m\n",
            "\u001b[0;32m/usr/local/lib/python3.7/dist-packages/tensorflow/python/eager/function.py\u001b[0m in \u001b[0;36mcall\u001b[0;34m(self, ctx, args, cancellation_manager)\u001b[0m\n\u001b[1;32m    594\u001b[0m               \u001b[0minputs\u001b[0m\u001b[0;34m=\u001b[0m\u001b[0margs\u001b[0m\u001b[0;34m,\u001b[0m\u001b[0;34m\u001b[0m\u001b[0;34m\u001b[0m\u001b[0m\n\u001b[1;32m    595\u001b[0m               \u001b[0mattrs\u001b[0m\u001b[0;34m=\u001b[0m\u001b[0mattrs\u001b[0m\u001b[0;34m,\u001b[0m\u001b[0;34m\u001b[0m\u001b[0;34m\u001b[0m\u001b[0m\n\u001b[0;32m--> 596\u001b[0;31m               ctx=ctx)\n\u001b[0m\u001b[1;32m    597\u001b[0m         \u001b[0;32melse\u001b[0m\u001b[0;34m:\u001b[0m\u001b[0;34m\u001b[0m\u001b[0;34m\u001b[0m\u001b[0m\n\u001b[1;32m    598\u001b[0m           outputs = execute.execute_with_cancellation(\n",
            "\u001b[0;32m/usr/local/lib/python3.7/dist-packages/tensorflow/python/eager/execute.py\u001b[0m in \u001b[0;36mquick_execute\u001b[0;34m(op_name, num_outputs, inputs, attrs, ctx, name)\u001b[0m\n\u001b[1;32m     58\u001b[0m     \u001b[0mctx\u001b[0m\u001b[0;34m.\u001b[0m\u001b[0mensure_initialized\u001b[0m\u001b[0;34m(\u001b[0m\u001b[0;34m)\u001b[0m\u001b[0;34m\u001b[0m\u001b[0;34m\u001b[0m\u001b[0m\n\u001b[1;32m     59\u001b[0m     tensors = pywrap_tfe.TFE_Py_Execute(ctx._handle, device_name, op_name,\n\u001b[0;32m---> 60\u001b[0;31m                                         inputs, attrs, num_outputs)\n\u001b[0m\u001b[1;32m     61\u001b[0m   \u001b[0;32mexcept\u001b[0m \u001b[0mcore\u001b[0m\u001b[0;34m.\u001b[0m\u001b[0m_NotOkStatusException\u001b[0m \u001b[0;32mas\u001b[0m \u001b[0me\u001b[0m\u001b[0;34m:\u001b[0m\u001b[0;34m\u001b[0m\u001b[0;34m\u001b[0m\u001b[0m\n\u001b[1;32m     62\u001b[0m     \u001b[0;32mif\u001b[0m \u001b[0mname\u001b[0m \u001b[0;32mis\u001b[0m \u001b[0;32mnot\u001b[0m \u001b[0;32mNone\u001b[0m\u001b[0;34m:\u001b[0m\u001b[0;34m\u001b[0m\u001b[0;34m\u001b[0m\u001b[0m\n",
            "\u001b[0;31mKeyboardInterrupt\u001b[0m: "
          ]
        }
      ]
    },
    {
      "cell_type": "code",
      "metadata": {
        "id": "W4TlgN90W4mK"
      },
      "source": [
        "model.evaluate(\n",
        "    test_ds\n",
        ")\n",
        "\n",
        "# Plot accuracy -> epochs\n",
        "plt.plot(history.history['accuracy'])\n",
        "plt.plot(history.history['val_accuracy'])\n",
        "plt.title('model accuracy')\n",
        "plt.ylabel('accuracy')\n",
        "plt.xlabel('epoch')\n",
        "plt.legend(['train', 'validation'], loc='upper left')\n",
        "plt.show()"
      ],
      "execution_count": null,
      "outputs": []
    }
  ]
}